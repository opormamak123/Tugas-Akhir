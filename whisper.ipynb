{
 "cells": [
  {
   "cell_type": "code",
   "execution_count": 4,
   "metadata": {},
   "outputs": [
    {
     "name": "stdout",
     "output_type": "stream",
     "text": [
      "Requirement already satisfied: openai-whisper in c:\\users\\ikra1\\appdata\\local\\programs\\python\\python312\\lib\\site-packages (20240930)\n",
      "Requirement already satisfied: numba in c:\\users\\ikra1\\appdata\\local\\programs\\python\\python312\\lib\\site-packages (from openai-whisper) (0.61.0)\n",
      "Requirement already satisfied: numpy in c:\\users\\ikra1\\appdata\\local\\programs\\python\\python312\\lib\\site-packages (from openai-whisper) (1.26.4)\n",
      "Requirement already satisfied: torch in c:\\users\\ikra1\\appdata\\local\\programs\\python\\python312\\lib\\site-packages (from openai-whisper) (2.5.1)\n",
      "Requirement already satisfied: tqdm in c:\\users\\ikra1\\appdata\\local\\programs\\python\\python312\\lib\\site-packages (from openai-whisper) (4.67.1)\n",
      "Requirement already satisfied: more-itertools in c:\\users\\ikra1\\appdata\\local\\programs\\python\\python312\\lib\\site-packages (from openai-whisper) (10.6.0)\n",
      "Requirement already satisfied: tiktoken in c:\\users\\ikra1\\appdata\\local\\programs\\python\\python312\\lib\\site-packages (from openai-whisper) (0.8.0)\n",
      "Requirement already satisfied: llvmlite<0.45,>=0.44.0dev0 in c:\\users\\ikra1\\appdata\\local\\programs\\python\\python312\\lib\\site-packages (from numba->openai-whisper) (0.44.0)\n",
      "Requirement already satisfied: regex>=2022.1.18 in c:\\users\\ikra1\\appdata\\local\\programs\\python\\python312\\lib\\site-packages (from tiktoken->openai-whisper) (2024.11.6)\n",
      "Requirement already satisfied: requests>=2.26.0 in c:\\users\\ikra1\\appdata\\local\\programs\\python\\python312\\lib\\site-packages (from tiktoken->openai-whisper) (2.31.0)\n",
      "Requirement already satisfied: filelock in c:\\users\\ikra1\\appdata\\local\\programs\\python\\python312\\lib\\site-packages (from torch->openai-whisper) (3.17.0)\n",
      "Requirement already satisfied: typing-extensions>=4.8.0 in c:\\users\\ikra1\\appdata\\local\\programs\\python\\python312\\lib\\site-packages (from torch->openai-whisper) (4.10.0)\n",
      "Requirement already satisfied: networkx in c:\\users\\ikra1\\appdata\\local\\programs\\python\\python312\\lib\\site-packages (from torch->openai-whisper) (3.4.2)\n",
      "Requirement already satisfied: jinja2 in c:\\users\\ikra1\\appdata\\local\\programs\\python\\python312\\lib\\site-packages (from torch->openai-whisper) (3.1.3)\n",
      "Requirement already satisfied: fsspec in c:\\users\\ikra1\\appdata\\local\\programs\\python\\python312\\lib\\site-packages (from torch->openai-whisper) (2024.12.0)\n",
      "Requirement already satisfied: setuptools in c:\\users\\ikra1\\appdata\\local\\programs\\python\\python312\\lib\\site-packages (from torch->openai-whisper) (69.5.1)\n",
      "Requirement already satisfied: sympy==1.13.1 in c:\\users\\ikra1\\appdata\\local\\programs\\python\\python312\\lib\\site-packages (from torch->openai-whisper) (1.13.1)\n",
      "Requirement already satisfied: mpmath<1.4,>=1.1.0 in c:\\users\\ikra1\\appdata\\local\\programs\\python\\python312\\lib\\site-packages (from sympy==1.13.1->torch->openai-whisper) (1.3.0)\n",
      "Requirement already satisfied: colorama in c:\\users\\ikra1\\appdata\\local\\programs\\python\\python312\\lib\\site-packages (from tqdm->openai-whisper) (0.4.6)\n",
      "Requirement already satisfied: charset-normalizer<4,>=2 in c:\\users\\ikra1\\appdata\\local\\programs\\python\\python312\\lib\\site-packages (from requests>=2.26.0->tiktoken->openai-whisper) (3.3.2)\n",
      "Requirement already satisfied: idna<4,>=2.5 in c:\\users\\ikra1\\appdata\\local\\programs\\python\\python312\\lib\\site-packages (from requests>=2.26.0->tiktoken->openai-whisper) (3.6)\n",
      "Requirement already satisfied: urllib3<3,>=1.21.1 in c:\\users\\ikra1\\appdata\\local\\programs\\python\\python312\\lib\\site-packages (from requests>=2.26.0->tiktoken->openai-whisper) (2.2.1)\n",
      "Requirement already satisfied: certifi>=2017.4.17 in c:\\users\\ikra1\\appdata\\local\\programs\\python\\python312\\lib\\site-packages (from requests>=2.26.0->tiktoken->openai-whisper) (2024.7.4)\n",
      "Requirement already satisfied: MarkupSafe>=2.0 in c:\\users\\ikra1\\appdata\\local\\programs\\python\\python312\\lib\\site-packages (from jinja2->torch->openai-whisper) (2.1.5)\n",
      "Note: you may need to restart the kernel to use updated packages.\n"
     ]
    },
    {
     "name": "stderr",
     "output_type": "stream",
     "text": [
      "\n",
      "[notice] A new release of pip is available: 24.0 -> 25.0\n",
      "[notice] To update, run: python.exe -m pip install --upgrade pip\n"
     ]
    },
    {
     "name": "stdout",
     "output_type": "stream",
     "text": [
      "Requirement already satisfied: torch in c:\\users\\ikra1\\appdata\\local\\programs\\python\\python312\\lib\\site-packages (2.5.1)\n",
      "Requirement already satisfied: filelock in c:\\users\\ikra1\\appdata\\local\\programs\\python\\python312\\lib\\site-packages (from torch) (3.17.0)\n",
      "Requirement already satisfied: typing-extensions>=4.8.0 in c:\\users\\ikra1\\appdata\\local\\programs\\python\\python312\\lib\\site-packages (from torch) (4.10.0)\n",
      "Requirement already satisfied: networkx in c:\\users\\ikra1\\appdata\\local\\programs\\python\\python312\\lib\\site-packages (from torch) (3.4.2)\n",
      "Requirement already satisfied: jinja2 in c:\\users\\ikra1\\appdata\\local\\programs\\python\\python312\\lib\\site-packages (from torch) (3.1.3)\n",
      "Requirement already satisfied: fsspec in c:\\users\\ikra1\\appdata\\local\\programs\\python\\python312\\lib\\site-packages (from torch) (2024.12.0)\n",
      "Requirement already satisfied: setuptools in c:\\users\\ikra1\\appdata\\local\\programs\\python\\python312\\lib\\site-packages (from torch) (69.5.1)\n",
      "Requirement already satisfied: sympy==1.13.1 in c:\\users\\ikra1\\appdata\\local\\programs\\python\\python312\\lib\\site-packages (from torch) (1.13.1)\n",
      "Requirement already satisfied: mpmath<1.4,>=1.1.0 in c:\\users\\ikra1\\appdata\\local\\programs\\python\\python312\\lib\\site-packages (from sympy==1.13.1->torch) (1.3.0)\n",
      "Requirement already satisfied: MarkupSafe>=2.0 in c:\\users\\ikra1\\appdata\\local\\programs\\python\\python312\\lib\\site-packages (from jinja2->torch) (2.1.5)\n",
      "Note: you may need to restart the kernel to use updated packages.\n"
     ]
    },
    {
     "name": "stderr",
     "output_type": "stream",
     "text": [
      "\n",
      "[notice] A new release of pip is available: 24.0 -> 25.0\n",
      "[notice] To update, run: python.exe -m pip install --upgrade pip\n"
     ]
    },
    {
     "name": "stdout",
     "output_type": "stream",
     "text": [
      "Requirement already satisfied: soundfile in c:\\users\\ikra1\\appdata\\local\\programs\\python\\python312\\lib\\site-packages (0.13.1)\n",
      "Requirement already satisfied: cffi>=1.0 in c:\\users\\ikra1\\appdata\\local\\programs\\python\\python312\\lib\\site-packages (from soundfile) (1.17.1)\n",
      "Requirement already satisfied: numpy in c:\\users\\ikra1\\appdata\\local\\programs\\python\\python312\\lib\\site-packages (from soundfile) (1.26.4)\n",
      "Requirement already satisfied: pycparser in c:\\users\\ikra1\\appdata\\local\\programs\\python\\python312\\lib\\site-packages (from cffi>=1.0->soundfile) (2.22)\n",
      "Note: you may need to restart the kernel to use updated packages.\n"
     ]
    },
    {
     "name": "stderr",
     "output_type": "stream",
     "text": [
      "\n",
      "[notice] A new release of pip is available: 24.0 -> 25.0\n",
      "[notice] To update, run: python.exe -m pip install --upgrade pip\n"
     ]
    },
    {
     "name": "stdout",
     "output_type": "stream",
     "text": [
      "Requirement already satisfied: numpy in c:\\users\\ikra1\\appdata\\local\\programs\\python\\python312\\lib\\site-packages (1.26.4)\n",
      "Note: you may need to restart the kernel to use updated packages.\n"
     ]
    },
    {
     "name": "stderr",
     "output_type": "stream",
     "text": [
      "\n",
      "[notice] A new release of pip is available: 24.0 -> 25.0\n",
      "[notice] To update, run: python.exe -m pip install --upgrade pip\n"
     ]
    },
    {
     "name": "stdout",
     "output_type": "stream",
     "text": [
      "Collecting librosa\n",
      "  Downloading librosa-0.10.2.post1-py3-none-any.whl.metadata (8.6 kB)\n",
      "Collecting audioread>=2.1.9 (from librosa)\n",
      "  Downloading audioread-3.0.1-py3-none-any.whl.metadata (8.4 kB)\n",
      "Requirement already satisfied: numpy!=1.22.0,!=1.22.1,!=1.22.2,>=1.20.3 in c:\\users\\ikra1\\appdata\\local\\programs\\python\\python312\\lib\\site-packages (from librosa) (1.26.4)\n",
      "Collecting scipy>=1.2.0 (from librosa)\n",
      "  Downloading scipy-1.15.1-cp312-cp312-win_amd64.whl.metadata (60 kB)\n",
      "     ---------------------------------------- 0.0/60.8 kB ? eta -:--:--\n",
      "     ---------------------------------------- 60.8/60.8 kB 1.6 MB/s eta 0:00:00\n",
      "Collecting scikit-learn>=0.20.0 (from librosa)\n",
      "  Downloading scikit_learn-1.6.1-cp312-cp312-win_amd64.whl.metadata (15 kB)\n",
      "Collecting joblib>=0.14 (from librosa)\n",
      "  Downloading joblib-1.4.2-py3-none-any.whl.metadata (5.4 kB)\n",
      "Requirement already satisfied: decorator>=4.3.0 in c:\\users\\ikra1\\appdata\\roaming\\python\\python312\\site-packages (from librosa) (5.1.1)\n",
      "Requirement already satisfied: numba>=0.51.0 in c:\\users\\ikra1\\appdata\\local\\programs\\python\\python312\\lib\\site-packages (from librosa) (0.61.0)\n",
      "Requirement already satisfied: soundfile>=0.12.1 in c:\\users\\ikra1\\appdata\\local\\programs\\python\\python312\\lib\\site-packages (from librosa) (0.13.1)\n",
      "Collecting pooch>=1.1 (from librosa)\n",
      "  Downloading pooch-1.8.2-py3-none-any.whl.metadata (10 kB)\n",
      "Collecting soxr>=0.3.2 (from librosa)\n",
      "  Downloading soxr-0.5.0.post1-cp312-abi3-win_amd64.whl.metadata (5.6 kB)\n",
      "Requirement already satisfied: typing-extensions>=4.1.1 in c:\\users\\ikra1\\appdata\\local\\programs\\python\\python312\\lib\\site-packages (from librosa) (4.10.0)\n",
      "Collecting lazy-loader>=0.1 (from librosa)\n",
      "  Downloading lazy_loader-0.4-py3-none-any.whl.metadata (7.6 kB)\n",
      "Collecting msgpack>=1.0 (from librosa)\n",
      "  Downloading msgpack-1.1.0-cp312-cp312-win_amd64.whl.metadata (8.6 kB)\n",
      "Requirement already satisfied: packaging in c:\\users\\ikra1\\appdata\\local\\programs\\python\\python312\\lib\\site-packages (from lazy-loader>=0.1->librosa) (24.1)\n",
      "Requirement already satisfied: llvmlite<0.45,>=0.44.0dev0 in c:\\users\\ikra1\\appdata\\local\\programs\\python\\python312\\lib\\site-packages (from numba>=0.51.0->librosa) (0.44.0)\n",
      "Requirement already satisfied: platformdirs>=2.5.0 in c:\\users\\ikra1\\appdata\\roaming\\python\\python312\\site-packages (from pooch>=1.1->librosa) (4.2.2)\n",
      "Requirement already satisfied: requests>=2.19.0 in c:\\users\\ikra1\\appdata\\local\\programs\\python\\python312\\lib\\site-packages (from pooch>=1.1->librosa) (2.31.0)\n",
      "Collecting threadpoolctl>=3.1.0 (from scikit-learn>=0.20.0->librosa)\n",
      "  Downloading threadpoolctl-3.5.0-py3-none-any.whl.metadata (13 kB)\n",
      "Requirement already satisfied: cffi>=1.0 in c:\\users\\ikra1\\appdata\\local\\programs\\python\\python312\\lib\\site-packages (from soundfile>=0.12.1->librosa) (1.17.1)\n",
      "Requirement already satisfied: pycparser in c:\\users\\ikra1\\appdata\\local\\programs\\python\\python312\\lib\\site-packages (from cffi>=1.0->soundfile>=0.12.1->librosa) (2.22)\n",
      "Requirement already satisfied: charset-normalizer<4,>=2 in c:\\users\\ikra1\\appdata\\local\\programs\\python\\python312\\lib\\site-packages (from requests>=2.19.0->pooch>=1.1->librosa) (3.3.2)\n",
      "Requirement already satisfied: idna<4,>=2.5 in c:\\users\\ikra1\\appdata\\local\\programs\\python\\python312\\lib\\site-packages (from requests>=2.19.0->pooch>=1.1->librosa) (3.6)\n",
      "Requirement already satisfied: urllib3<3,>=1.21.1 in c:\\users\\ikra1\\appdata\\local\\programs\\python\\python312\\lib\\site-packages (from requests>=2.19.0->pooch>=1.1->librosa) (2.2.1)\n",
      "Requirement already satisfied: certifi>=2017.4.17 in c:\\users\\ikra1\\appdata\\local\\programs\\python\\python312\\lib\\site-packages (from requests>=2.19.0->pooch>=1.1->librosa) (2024.7.4)\n",
      "Downloading librosa-0.10.2.post1-py3-none-any.whl (260 kB)\n",
      "   ---------------------------------------- 0.0/260.1 kB ? eta -:--:--\n",
      "   ---------------------------------------- 260.1/260.1 kB 8.1 MB/s eta 0:00:00\n",
      "Downloading audioread-3.0.1-py3-none-any.whl (23 kB)\n",
      "Downloading joblib-1.4.2-py3-none-any.whl (301 kB)\n",
      "   ---------------------------------------- 0.0/301.8 kB ? eta -:--:--\n",
      "   --------------------------------------- 301.8/301.8 kB 18.2 MB/s eta 0:00:00\n",
      "Downloading lazy_loader-0.4-py3-none-any.whl (12 kB)\n",
      "Downloading msgpack-1.1.0-cp312-cp312-win_amd64.whl (75 kB)\n",
      "   ---------------------------------------- 0.0/75.3 kB ? eta -:--:--\n",
      "   ---------------------------------------- 75.3/75.3 kB 4.3 MB/s eta 0:00:00\n",
      "Downloading pooch-1.8.2-py3-none-any.whl (64 kB)\n",
      "   ---------------------------------------- 0.0/64.6 kB ? eta -:--:--\n",
      "   ---------------------------------------- 64.6/64.6 kB 3.4 MB/s eta 0:00:00\n",
      "Downloading scikit_learn-1.6.1-cp312-cp312-win_amd64.whl (11.1 MB)\n",
      "   ---------------------------------------- 0.0/11.1 MB ? eta -:--:--\n",
      "   --- ------------------------------------ 1.0/11.1 MB 32.0 MB/s eta 0:00:01\n",
      "   ------ --------------------------------- 1.9/11.1 MB 24.3 MB/s eta 0:00:01\n",
      "   ---------- ----------------------------- 2.8/11.1 MB 22.6 MB/s eta 0:00:01\n",
      "   ------------- -------------------------- 3.8/11.1 MB 21.9 MB/s eta 0:00:01\n",
      "   ---------------- ----------------------- 4.7/11.1 MB 21.5 MB/s eta 0:00:01\n",
      "   -------------------- ------------------- 5.6/11.1 MB 21.0 MB/s eta 0:00:01\n",
      "   ----------------------- ---------------- 6.5/11.1 MB 20.8 MB/s eta 0:00:01\n",
      "   -------------------------- ------------- 7.4/11.1 MB 20.6 MB/s eta 0:00:01\n",
      "   ------------------------------ --------- 8.3/11.1 MB 20.5 MB/s eta 0:00:01\n",
      "   -------------------------------- ------- 9.1/11.1 MB 20.2 MB/s eta 0:00:01\n",
      "   ------------------------------------ --- 10.1/11.1 MB 20.1 MB/s eta 0:00:01\n",
      "   ---------------------------------------  11.0/11.1 MB 19.3 MB/s eta 0:00:01\n",
      "   ---------------------------------------  11.1/11.1 MB 19.8 MB/s eta 0:00:01\n",
      "   ---------------------------------------  11.1/11.1 MB 19.8 MB/s eta 0:00:01\n",
      "   ---------------------------------------- 11.1/11.1 MB 16.8 MB/s eta 0:00:00\n",
      "Downloading scipy-1.15.1-cp312-cp312-win_amd64.whl (43.6 MB)\n",
      "   ---------------------------------------- 0.0/43.6 MB ? eta -:--:--\n",
      "    --------------------------------------- 1.0/43.6 MB 30.7 MB/s eta 0:00:02\n",
      "   - -------------------------------------- 1.9/43.6 MB 24.0 MB/s eta 0:00:02\n",
      "   -- ------------------------------------- 2.8/43.6 MB 22.1 MB/s eta 0:00:02\n",
      "   --- ------------------------------------ 3.7/43.6 MB 21.4 MB/s eta 0:00:02\n",
      "   ---- ----------------------------------- 4.6/43.6 MB 21.0 MB/s eta 0:00:02\n",
      "   ----- ---------------------------------- 5.6/43.6 MB 20.9 MB/s eta 0:00:02\n",
      "   ----- ---------------------------------- 6.5/43.6 MB 20.8 MB/s eta 0:00:02\n",
      "   ------ --------------------------------- 7.4/43.6 MB 20.6 MB/s eta 0:00:02\n",
      "   ------- -------------------------------- 8.3/43.6 MB 20.4 MB/s eta 0:00:02\n",
      "   -------- ------------------------------- 9.2/43.6 MB 20.4 MB/s eta 0:00:02\n",
      "   --------- ------------------------------ 10.2/43.6 MB 20.3 MB/s eta 0:00:02\n",
      "   ---------- ----------------------------- 11.1/43.6 MB 19.8 MB/s eta 0:00:02\n",
      "   ---------- ----------------------------- 12.0/43.6 MB 19.8 MB/s eta 0:00:02\n",
      "   ----------- ---------------------------- 12.9/43.6 MB 19.9 MB/s eta 0:00:02\n",
      "   ------------ --------------------------- 13.8/43.6 MB 19.9 MB/s eta 0:00:02\n",
      "   ------------- -------------------------- 14.7/43.6 MB 19.9 MB/s eta 0:00:02\n",
      "   -------------- ------------------------- 15.7/43.6 MB 19.8 MB/s eta 0:00:02\n",
      "   --------------- ------------------------ 16.6/43.6 MB 19.8 MB/s eta 0:00:02\n",
      "   ---------------- ----------------------- 17.5/43.6 MB 19.8 MB/s eta 0:00:02\n",
      "   ---------------- ----------------------- 18.4/43.6 MB 19.3 MB/s eta 0:00:02\n",
      "   ----------------- ---------------------- 19.3/43.6 MB 19.3 MB/s eta 0:00:02\n",
      "   ------------------ --------------------- 20.2/43.6 MB 19.3 MB/s eta 0:00:02\n",
      "   ------------------- -------------------- 21.2/43.6 MB 19.3 MB/s eta 0:00:02\n",
      "   -------------------- ------------------- 22.1/43.6 MB 19.3 MB/s eta 0:00:02\n",
      "   --------------------- ------------------ 23.0/43.6 MB 19.8 MB/s eta 0:00:02\n",
      "   --------------------- ------------------ 23.9/43.6 MB 19.8 MB/s eta 0:00:01\n",
      "   ---------------------- ----------------- 24.8/43.6 MB 19.8 MB/s eta 0:00:01\n",
      "   ----------------------- ---------------- 25.7/43.6 MB 19.8 MB/s eta 0:00:01\n",
      "   ------------------------ --------------- 26.5/43.6 MB 19.8 MB/s eta 0:00:01\n",
      "   ------------------------- -------------- 27.4/43.6 MB 19.3 MB/s eta 0:00:01\n",
      "   ------------------------- -------------- 28.3/43.6 MB 19.3 MB/s eta 0:00:01\n",
      "   -------------------------- ------------- 29.2/43.6 MB 19.9 MB/s eta 0:00:01\n",
      "   --------------------------- ------------ 30.1/43.6 MB 19.3 MB/s eta 0:00:01\n",
      "   ---------------------------- ----------- 31.0/43.6 MB 18.7 MB/s eta 0:00:01\n",
      "   ----------------------------- ---------- 31.9/43.6 MB 18.7 MB/s eta 0:00:01\n",
      "   ------------------------------ --------- 32.8/43.6 MB 18.7 MB/s eta 0:00:01\n",
      "   ------------------------------ --------- 33.4/43.6 MB 18.7 MB/s eta 0:00:01\n",
      "   ------------------------------- -------- 34.3/43.6 MB 18.7 MB/s eta 0:00:01\n",
      "   -------------------------------- ------- 35.0/43.6 MB 17.7 MB/s eta 0:00:01\n",
      "   -------------------------------- ------- 35.6/43.6 MB 17.2 MB/s eta 0:00:01\n",
      "   --------------------------------- ------ 36.4/43.6 MB 17.2 MB/s eta 0:00:01\n",
      "   --------------------------------- ------ 37.0/43.6 MB 16.8 MB/s eta 0:00:01\n",
      "   ---------------------------------- ----- 37.7/43.6 MB 16.8 MB/s eta 0:00:01\n",
      "   ----------------------------------- ---- 38.6/43.6 MB 16.8 MB/s eta 0:00:01\n",
      "   ----------------------------------- ---- 39.1/43.6 MB 16.0 MB/s eta 0:00:01\n",
      "   ------------------------------------ --- 40.0/43.6 MB 16.4 MB/s eta 0:00:01\n",
      "   ------------------------------------- -- 40.7/43.6 MB 16.0 MB/s eta 0:00:01\n",
      "   ------------------------------------- -- 41.3/43.6 MB 15.6 MB/s eta 0:00:01\n",
      "   -------------------------------------- - 42.0/43.6 MB 15.2 MB/s eta 0:00:01\n",
      "   ---------------------------------------  42.6/43.6 MB 14.9 MB/s eta 0:00:01\n",
      "   ---------------------------------------  43.6/43.6 MB 15.2 MB/s eta 0:00:01\n",
      "   ---------------------------------------  43.6/43.6 MB 15.2 MB/s eta 0:00:01\n",
      "   ---------------------------------------  43.6/43.6 MB 15.2 MB/s eta 0:00:01\n",
      "   ---------------------------------------  43.6/43.6 MB 15.2 MB/s eta 0:00:01\n",
      "   ---------------------------------------- 43.6/43.6 MB 12.1 MB/s eta 0:00:00\n",
      "Downloading soxr-0.5.0.post1-cp312-abi3-win_amd64.whl (164 kB)\n",
      "   ---------------------------------------- 0.0/164.9 kB ? eta -:--:--\n",
      "   --------------------------------------- 164.9/164.9 kB 10.3 MB/s eta 0:00:00\n",
      "Downloading threadpoolctl-3.5.0-py3-none-any.whl (18 kB)\n",
      "Installing collected packages: threadpoolctl, soxr, scipy, msgpack, lazy-loader, joblib, audioread, scikit-learn, pooch, librosa\n",
      "Successfully installed audioread-3.0.1 joblib-1.4.2 lazy-loader-0.4 librosa-0.10.2.post1 msgpack-1.1.0 pooch-1.8.2 scikit-learn-1.6.1 scipy-1.15.1 soxr-0.5.0.post1 threadpoolctl-3.5.0\n",
      "Note: you may need to restart the kernel to use updated packages.\n"
     ]
    },
    {
     "name": "stderr",
     "output_type": "stream",
     "text": [
      "\n",
      "[notice] A new release of pip is available: 24.0 -> 25.0\n",
      "[notice] To update, run: python.exe -m pip install --upgrade pip\n"
     ]
    }
   ],
   "source": [
    "%pip install openai-whisper\n",
    "%pip install torch\n",
    "%pip install soundfile\n",
    "%pip install numpy\n",
    "%pip install librosa"
   ]
  },
  {
   "cell_type": "code",
   "execution_count": 4,
   "metadata": {},
   "outputs": [],
   "source": [
    "import whisper\n",
    "import soundfile as sf\n",
    "import numpy as np\n",
    "import torch"
   ]
  },
  {
   "cell_type": "code",
   "execution_count": 9,
   "metadata": {},
   "outputs": [
    {
     "name": "stderr",
     "output_type": "stream",
     "text": [
      "c:\\Users\\ikra1\\AppData\\Local\\Programs\\Python\\Python312\\Lib\\site-packages\\whisper\\__init__.py:150: FutureWarning: You are using `torch.load` with `weights_only=False` (the current default value), which uses the default pickle module implicitly. It is possible to construct malicious pickle data which will execute arbitrary code during unpickling (See https://github.com/pytorch/pytorch/blob/main/SECURITY.md#untrusted-models for more details). In a future release, the default value for `weights_only` will be flipped to `True`. This limits the functions that could be executed during unpickling. Arbitrary objects will no longer be allowed to be loaded via this mode unless they are explicitly allowlisted by the user via `torch.serialization.add_safe_globals`. We recommend you start setting `weights_only=True` for any use case where you don't have full control of the loaded file. Please open an issue on GitHub for any issues related to this experimental feature.\n",
      "  checkpoint = torch.load(fp, map_location=device)\n"
     ]
    }
   ],
   "source": [
    "# Load the Whisper model\n",
    "model_size = \"base\"  # You can change this to \"tiny\", \"small\", \"medium\", or \"large\"\n",
    "model = whisper.load_model(model_size)"
   ]
  },
  {
   "cell_type": "code",
   "execution_count": 24,
   "metadata": {},
   "outputs": [],
   "source": [
    "def transcribe_audio(file_path):\n",
    "    # Load the audio file\n",
    "    audio, sample_rate = sf.read(file_path, dtype=np.float32)\n",
    "    \n",
    "    # Convert stereo to mono if necessary\n",
    "    if len(audio.shape) > 1:\n",
    "        audio = np.mean(audio, axis=1)\n",
    "    \n",
    "    # Resample to 16kHz if necessary (Whisper expects 16kHz audio)\n",
    "    if sample_rate != 16000:\n",
    "        import librosa\n",
    "        audio = librosa.resample(audio, orig_sr=sample_rate, target_sr=16000)\n",
    "    \n",
    "    # Transcribe the audio\n",
    "    result = model.transcribe(audio)\n",
    "    return result[\"text\"]"
   ]
  },
  {
   "cell_type": "code",
   "execution_count": 30,
   "metadata": {},
   "outputs": [
    {
     "name": "stdout",
     "output_type": "stream",
     "text": [
      "Transcription:  mereka meninggalkannya\n"
     ]
    }
   ],
   "source": [
    "# Path to your audio file\n",
    "audio_file_path = \"common_voice_id_41274039.mp3\"\n",
    "\n",
    "# Transcribe the audio\n",
    "transcription = transcribe_audio(audio_file_path)\n",
    "print(\"Transcription:\", transcription)"
   ]
  },
  {
   "cell_type": "code",
   "execution_count": 26,
   "metadata": {},
   "outputs": [
    {
     "name": "stdout",
     "output_type": "stream",
     "text": [
      "Transcription saved to transcription.txt\n"
     ]
    }
   ],
   "source": [
    "# Save the transcription to a text file\n",
    "output_file_path = \"transcription.txt\"\n",
    "with open(output_file_path, \"w\") as f:\n",
    "    f.write(transcription)\n",
    "\n",
    "print(f\"Transcription saved to {output_file_path}\")"
   ]
  }
 ],
 "metadata": {
  "kernelspec": {
   "display_name": "Python 3",
   "language": "python",
   "name": "python3"
  },
  "language_info": {
   "codemirror_mode": {
    "name": "ipython",
    "version": 3
   },
   "file_extension": ".py",
   "mimetype": "text/x-python",
   "name": "python",
   "nbconvert_exporter": "python",
   "pygments_lexer": "ipython3",
   "version": "3.12.3"
  }
 },
 "nbformat": 4,
 "nbformat_minor": 2
}
